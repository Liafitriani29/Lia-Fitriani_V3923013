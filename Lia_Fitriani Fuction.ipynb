{
 "cells": [
  {
   "cell_type": "code",
   "execution_count": 1,
   "id": "7e467b7e",
   "metadata": {},
   "outputs": [
    {
     "name": "stdout",
     "output_type": "stream",
     "text": [
      "Pilihan:\n",
      "1. Hitung FPB\n",
      "2. Hitung KPK\n",
      "3. Keluar\n",
      "Masukkan pilihan Anda: 2\n",
      "Masukkan bilangan pertama: 10\n",
      "Masukkan bilangan kedua: 4\n",
      "KPK dari 10 dan 4 adalah 20\n",
      "Pilihan:\n",
      "1. Hitung FPB\n",
      "2. Hitung KPK\n",
      "3. Keluar\n",
      "Masukkan pilihan Anda: 1\n",
      "Masukkan bilangan pertama: 12\n",
      "Masukkan bilangan kedua: 28\n",
      "FPB dari 12 dan 28 adalah 4\n",
      "Pilihan:\n",
      "1. Hitung FPB\n",
      "2. Hitung KPK\n",
      "3. Keluar\n",
      "Masukkan pilihan Anda: 3\n",
      "Selesai.\n"
     ]
    }
   ],
   "source": [
    "#!/usr/bin/env python\n",
    "# coding: utf-8\n",
    "\n",
    "# In[4]:\n",
    "\n",
    "\n",
    "def hitung_fpb(a, b):\n",
    "    if b == 0:\n",
    "        return a\n",
    "    else:\n",
    "        return hitung_fpb(b, a % b)\n",
    "\n",
    "def hitung_kpk(a, b):\n",
    "    kpk = max(a, b)\n",
    "    while True:\n",
    "        if kpk % a == 0 and kpk % b == 0:\n",
    "            return kpk\n",
    "        else:\n",
    "            kpk += 1\n",
    "\n",
    "while True:\n",
    "    print(\"Pilihan:\")\n",
    "    print(\"1. Hitung FPB\")\n",
    "    print(\"2. Hitung KPK\")\n",
    "    print(\"3. Keluar\")\n",
    "    \n",
    "    pilihan = int(input(\"Masukkan pilihan Anda: \"))\n",
    "    \n",
    "    if pilihan == 1:\n",
    "        a = int(input(\"Masukkan bilangan pertama: \"))\n",
    "        b = int(input(\"Masukkan bilangan kedua: \"))\n",
    "        fpb = hitung_fpb(a, b)\n",
    "        print(f\"FPB dari {a} dan {b} adalah {fpb}\")\n",
    "    elif pilihan == 2:\n",
    "        a = int(input(\"Masukkan bilangan pertama: \"))\n",
    "        b = int(input(\"Masukkan bilangan kedua: \"))\n",
    "        kpk = hitung_kpk(a, b)\n",
    "        print(f\"KPK dari {a} dan {b} adalah {kpk}\")\n",
    "    elif pilihan == 3:\n",
    "        print(\"Selesai.\")\n",
    "        break\n",
    "    else:\n",
    "        print(\"Pilihan tidak valid. Silakan coba lagi.\")\n",
    "\n",
    "\n",
    "# In[ ]:"
   ]
  },
  {
   "cell_type": "code",
   "execution_count": null,
   "id": "ae7bf8e7",
   "metadata": {},
   "outputs": [],
   "source": []
  }
 ],
 "metadata": {
  "kernelspec": {
   "display_name": "Python 3 (ipykernel)",
   "language": "python",
   "name": "python3"
  },
  "language_info": {
   "codemirror_mode": {
    "name": "ipython",
    "version": 3
   },
   "file_extension": ".py",
   "mimetype": "text/x-python",
   "name": "python",
   "nbconvert_exporter": "python",
   "pygments_lexer": "ipython3",
   "version": "3.11.5"
  }
 },
 "nbformat": 4,
 "nbformat_minor": 5
}
